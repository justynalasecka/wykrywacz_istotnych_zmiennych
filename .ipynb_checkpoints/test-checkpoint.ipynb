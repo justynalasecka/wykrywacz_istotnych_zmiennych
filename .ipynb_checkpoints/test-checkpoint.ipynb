{
 "cells": [
  {
   "cell_type": "code",
   "execution_count": null,
   "metadata": {
    "vscode": {
     "languageId": "plaintext"
    }
   },
   "outputs": [],
   "source": [
    "from pycaret.classification import setup, compare_models, finalize_model, plot_model, save_model\n",
    "from pycaret.datasets import get_data\n",
    "\n",
    "titanic_df = pd.read_csv(\"26_titanic.csv\", sep=\";\")"
   ]
  }
 ],
 "metadata": {
  "language_info": {
   "name": "python"
  }
 },
 "nbformat": 4,
 "nbformat_minor": 2
}
